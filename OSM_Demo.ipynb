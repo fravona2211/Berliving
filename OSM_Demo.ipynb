{
  "nbformat": 4,
  "nbformat_minor": 0,
  "metadata": {
    "colab": {
      "name": "OSM_Demo.ipynb",
      "provenance": [],
      "collapsed_sections": [
        "FqT7xJSSQOSp",
        "vQAcN9qwpEMF",
        "bs9x0g9rdtKN",
        "0u-Xe8c9ftUj",
        "5-zPEcKGfyzc",
        "_cUXqixEl8x6",
        "EjYIaLy1bJ9W"
      ],
      "include_colab_link": true
    },
    "kernelspec": {
      "name": "python3",
      "display_name": "Python 3"
    },
    "accelerator": "GPU"
  },
  "cells": [
    {
      "cell_type": "markdown",
      "metadata": {
        "id": "view-in-github",
        "colab_type": "text"
      },
      "source": [
        "<a href=\"https://colab.research.google.com/github/fravona2211/Berliving/blob/master/OSM_Demo.ipynb\" target=\"_parent\"><img src=\"https://colab.research.google.com/assets/colab-badge.svg\" alt=\"Open In Colab\"/></a>"
      ]
    },
    {
      "cell_type": "markdown",
      "metadata": {
        "id": "FqT7xJSSQOSp",
        "colab_type": "text"
      },
      "source": [
        "# Setup"
      ]
    },
    {
      "cell_type": "code",
      "metadata": {
        "id": "LWS-aNUJdZT9",
        "colab_type": "code",
        "colab": {
          "base_uri": "https://localhost:8080/",
          "height": 1000
        },
        "outputId": "196956af-4982-4ad3-e9ee-7b477f37dfbc"
      },
      "source": [
        "# Install GDAL and Geopandas\n",
        "!apt install gdal-bin python-gdal python3-gdal --quiet\n",
        "!apt install python3-rtree --quiet\n",
        "!pip install git+git://github.com/geopandas/geopandas.git --quiet\n",
        "!pip install descartes --quiet\n",
        "!pip install osmnx==0.14.1\n",
        "!pip install folium"
      ],
      "execution_count": null,
      "outputs": [
        {
          "output_type": "stream",
          "text": [
            "Reading package lists...\n",
            "Building dependency tree...\n",
            "Reading state information...\n",
            "gdal-bin is already the newest version (2.2.3+dfsg-2).\n",
            "python-gdal is already the newest version (2.2.3+dfsg-2).\n",
            "python3-gdal is already the newest version (2.2.3+dfsg-2).\n",
            "The following package was automatically installed and is no longer required:\n",
            "  libnvidia-common-440\n",
            "Use 'apt autoremove' to remove it.\n",
            "0 upgraded, 0 newly installed, 0 to remove and 33 not upgraded.\n",
            "Reading package lists...\n",
            "Building dependency tree...\n",
            "Reading state information...\n",
            "python3-rtree is already the newest version (0.8.3+ds-1).\n",
            "The following package was automatically installed and is no longer required:\n",
            "  libnvidia-common-440\n",
            "Use 'apt autoremove' to remove it.\n",
            "0 upgraded, 0 newly installed, 0 to remove and 33 not upgraded.\n",
            "  Building wheel for geopandas (setup.py) ... \u001b[?25l\u001b[?25hdone\n",
            "Requirement already satisfied: osmnx==0.14.1 in /usr/local/lib/python3.6/dist-packages (0.14.1)\n",
            "Requirement already satisfied: Shapely>=1.7 in /usr/local/lib/python3.6/dist-packages (from osmnx==0.14.1) (1.7.0)\n",
            "Requirement already satisfied: geopandas>=0.7 in /usr/local/lib/python3.6/dist-packages (from osmnx==0.14.1) (0.8.0+4.gb0381e1)\n",
            "Requirement already satisfied: networkx>=2.4 in /usr/local/lib/python3.6/dist-packages (from osmnx==0.14.1) (2.4)\n",
            "Requirement already satisfied: requests>=2.23 in /usr/local/lib/python3.6/dist-packages (from osmnx==0.14.1) (2.23.0)\n",
            "Requirement already satisfied: Rtree>=0.9 in /usr/local/lib/python3.6/dist-packages (from osmnx==0.14.1) (0.9.4)\n",
            "Requirement already satisfied: descartes>=1.1 in /usr/local/lib/python3.6/dist-packages (from osmnx==0.14.1) (1.1.0)\n",
            "Requirement already satisfied: matplotlib>=3.2 in /usr/local/lib/python3.6/dist-packages (from osmnx==0.14.1) (3.2.2)\n",
            "Requirement already satisfied: numpy>=1.18 in /usr/local/lib/python3.6/dist-packages (from osmnx==0.14.1) (1.18.5)\n",
            "Requirement already satisfied: pandas>=1.0 in /usr/local/lib/python3.6/dist-packages (from osmnx==0.14.1) (1.0.5)\n",
            "Requirement already satisfied: pyproj>=2.6 in /usr/local/lib/python3.6/dist-packages (from osmnx==0.14.1) (2.6.1.post1)\n",
            "Requirement already satisfied: fiona in /usr/local/lib/python3.6/dist-packages (from geopandas>=0.7->osmnx==0.14.1) (1.8.13.post1)\n",
            "Requirement already satisfied: decorator>=4.3.0 in /usr/local/lib/python3.6/dist-packages (from networkx>=2.4->osmnx==0.14.1) (4.4.2)\n",
            "Requirement already satisfied: chardet<4,>=3.0.2 in /usr/local/lib/python3.6/dist-packages (from requests>=2.23->osmnx==0.14.1) (3.0.4)\n",
            "Requirement already satisfied: idna<3,>=2.5 in /usr/local/lib/python3.6/dist-packages (from requests>=2.23->osmnx==0.14.1) (2.9)\n",
            "Requirement already satisfied: certifi>=2017.4.17 in /usr/local/lib/python3.6/dist-packages (from requests>=2.23->osmnx==0.14.1) (2020.6.20)\n",
            "Requirement already satisfied: urllib3!=1.25.0,!=1.25.1,<1.26,>=1.21.1 in /usr/local/lib/python3.6/dist-packages (from requests>=2.23->osmnx==0.14.1) (1.24.3)\n",
            "Requirement already satisfied: setuptools in /usr/local/lib/python3.6/dist-packages (from Rtree>=0.9->osmnx==0.14.1) (47.3.1)\n",
            "Requirement already satisfied: pyparsing!=2.0.4,!=2.1.2,!=2.1.6,>=2.0.1 in /usr/local/lib/python3.6/dist-packages (from matplotlib>=3.2->osmnx==0.14.1) (2.4.7)\n",
            "Requirement already satisfied: cycler>=0.10 in /usr/local/lib/python3.6/dist-packages (from matplotlib>=3.2->osmnx==0.14.1) (0.10.0)\n",
            "Requirement already satisfied: kiwisolver>=1.0.1 in /usr/local/lib/python3.6/dist-packages (from matplotlib>=3.2->osmnx==0.14.1) (1.2.0)\n",
            "Requirement already satisfied: python-dateutil>=2.1 in /usr/local/lib/python3.6/dist-packages (from matplotlib>=3.2->osmnx==0.14.1) (2.8.1)\n",
            "Requirement already satisfied: pytz>=2017.2 in /usr/local/lib/python3.6/dist-packages (from pandas>=1.0->osmnx==0.14.1) (2018.9)\n",
            "Requirement already satisfied: attrs>=17 in /usr/local/lib/python3.6/dist-packages (from fiona->geopandas>=0.7->osmnx==0.14.1) (19.3.0)\n",
            "Requirement already satisfied: six>=1.7 in /usr/local/lib/python3.6/dist-packages (from fiona->geopandas>=0.7->osmnx==0.14.1) (1.12.0)\n",
            "Requirement already satisfied: click<8,>=4.0 in /usr/local/lib/python3.6/dist-packages (from fiona->geopandas>=0.7->osmnx==0.14.1) (7.1.2)\n",
            "Requirement already satisfied: cligj>=0.5 in /usr/local/lib/python3.6/dist-packages (from fiona->geopandas>=0.7->osmnx==0.14.1) (0.5.0)\n",
            "Requirement already satisfied: click-plugins>=1.0 in /usr/local/lib/python3.6/dist-packages (from fiona->geopandas>=0.7->osmnx==0.14.1) (1.1.1)\n",
            "Requirement already satisfied: munch in /usr/local/lib/python3.6/dist-packages (from fiona->geopandas>=0.7->osmnx==0.14.1) (2.5.0)\n",
            "Requirement already satisfied: folium in /usr/local/lib/python3.6/dist-packages (0.8.3)\n",
            "Requirement already satisfied: branca>=0.3.0 in /usr/local/lib/python3.6/dist-packages (from folium) (0.4.1)\n",
            "Requirement already satisfied: numpy in /usr/local/lib/python3.6/dist-packages (from folium) (1.18.5)\n",
            "Requirement already satisfied: requests in /usr/local/lib/python3.6/dist-packages (from folium) (2.23.0)\n",
            "Requirement already satisfied: six in /usr/local/lib/python3.6/dist-packages (from folium) (1.12.0)\n",
            "Requirement already satisfied: jinja2 in /usr/local/lib/python3.6/dist-packages (from folium) (2.11.2)\n",
            "Requirement already satisfied: chardet<4,>=3.0.2 in /usr/local/lib/python3.6/dist-packages (from requests->folium) (3.0.4)\n",
            "Requirement already satisfied: idna<3,>=2.5 in /usr/local/lib/python3.6/dist-packages (from requests->folium) (2.9)\n",
            "Requirement already satisfied: urllib3!=1.25.0,!=1.25.1,<1.26,>=1.21.1 in /usr/local/lib/python3.6/dist-packages (from requests->folium) (1.24.3)\n",
            "Requirement already satisfied: certifi>=2017.4.17 in /usr/local/lib/python3.6/dist-packages (from requests->folium) (2020.6.20)\n",
            "Requirement already satisfied: MarkupSafe>=0.23 in /usr/local/lib/python3.6/dist-packages (from jinja2->folium) (1.1.1)\n"
          ],
          "name": "stdout"
        }
      ]
    },
    {
      "cell_type": "code",
      "metadata": {
        "id": "o0JwSSqwdfDF",
        "colab_type": "code",
        "colab": {}
      },
      "source": [
        "import pandas as pd\n",
        "import geopandas as gpd\n",
        "import osmnx as ox\n",
        "import folium\n",
        "import matplotlib.pyplot as plt\n",
        "import seaborn as sns"
      ],
      "execution_count": null,
      "outputs": []
    },
    {
      "cell_type": "markdown",
      "metadata": {
        "id": "vQAcN9qwpEMF",
        "colab_type": "text"
      },
      "source": [
        "# Plotting Kreuzberg"
      ]
    },
    {
      "cell_type": "code",
      "metadata": {
        "id": "LmB20h8JpPrB",
        "colab_type": "code",
        "colab": {
          "base_uri": "https://localhost:8080/",
          "height": 345
        },
        "outputId": "094d245a-1883-4214-c531-06dd8bdbec11"
      },
      "source": [
        "city = ox.gdf_from_place('Kreuzberg, Berlin, Germany')\n",
        "city_proj = ox.projection.project_gdf(city)\n",
        "fig, ax = ox.plot_shape(city_proj, figsize=(9, 9), fc='papayawhip')"
      ],
      "execution_count": null,
      "outputs": [
        {
          "output_type": "stream",
          "text": [
            "/usr/local/lib/python3.6/dist-packages/osmnx/plot.py:96: UserWarning: the plot_shape function has been deprecated and will be removed in the next release, use gdf.plot() instead\n",
            "  \"the plot_shape function has been deprecated and will be removed in the next release, use gdf.plot() instead\"\n"
          ],
          "name": "stderr"
        },
        {
          "output_type": "display_data",
          "data": {
            "image/png": "[encoded data removed]",
            "text/plain": [
              "<Figure size 648x648 with 1 Axes>"
            ]
          },
          "metadata": {
            "tags": [],
            "needs_background": "light"
          }
        }
      ]
    },
    {
      "cell_type": "markdown",
      "metadata": {
        "id": "bs9x0g9rdtKN",
        "colab_type": "text"
      },
      "source": [
        "# Streets"
      ]
    },
    {
      "cell_type": "markdown",
      "metadata": {
        "id": "cRU-1MttXt2d",
        "colab_type": "text"
      },
      "source": [
        "Specifing the place"
      ]
    },
    {
      "cell_type": "code",
      "metadata": {
        "id": "ii2GW4P8doAs",
        "colab_type": "code",
        "colab": {}
      },
      "source": [
        "place = \"Kreuzberg, Berlin, Germany\""
      ],
      "execution_count": null,
      "outputs": []
    },
    {
      "cell_type": "markdown",
      "metadata": {
        "id": "XLP1lYYPgLXn",
        "colab_type": "text"
      },
      "source": [
        "### Working with different street networks"
      ]
    },
    {
      "cell_type": "markdown",
      "metadata": {
        "id": "P-upOcR1XJ1u",
        "colab_type": "text"
      },
      "source": [
        "Mapping the driving network"
      ]
    },
    {
      "cell_type": "code",
      "metadata": {
        "id": "J0TXEbvurj4Q",
        "colab_type": "code",
        "colab": {
          "base_uri": "https://localhost:8080/",
          "height": 392
        },
        "outputId": "530d9112-2f96-45f1-9dad-15a7a923aba9"
      },
      "source": [
        "graph_driving = ox.graph_from_place(place, network_type='drive')\n",
        "ox.plot_graph(graph_driving, bgcolor= 'k', node_color = 'azure', edge_color = 'lightcyan')"
      ],
      "execution_count": null,
      "outputs": [
        {
          "output_type": "display_data",
          "data": {
            "image/png": "[encoded data removed]",
            "text/plain": [
              "<Figure size 1515.28x432 with 1 Axes>"
            ]
          },
          "metadata": {
            "tags": []
          }
        },
        {
          "output_type": "execute_result",
          "data": {
            "text/plain": [
              "(<Figure size 1515.28x432 with 1 Axes>,\n",
              " <matplotlib.axes._subplots.AxesSubplot at 0x7fc8b4dcb6d8>)"
            ]
          },
          "metadata": {
            "tags": []
          },
          "execution_count": 18
        }
      ]
    },
    {
      "cell_type": "markdown",
      "metadata": {
        "id": "BN2wYQmeXT9E",
        "colab_type": "text"
      },
      "source": [
        "Mapping the biking network"
      ]
    },
    {
      "cell_type": "code",
      "metadata": {
        "id": "nUlhf_RkqMZv",
        "colab_type": "code",
        "colab": {
          "base_uri": "https://localhost:8080/",
          "height": 183
        },
        "outputId": "2805bfa6-5c0b-4d7c-906c-21885017d4a1"
      },
      "source": [
        "graph_biking = ox.graph_from_place(place, network_type = 'bike')\n",
        "ox.plot_graph(graph_biking, node_size = 30, node_color = 'darkseagreen')"
      ],
      "execution_count": null,
      "outputs": [
        {
          "output_type": "error",
          "ename": "TypeError",
          "evalue": "ignored",
          "traceback": [
            "\u001b[0;31m---------------------------------------------------------------------------\u001b[0m",
            "\u001b[0;31mTypeError\u001b[0m                                 Traceback (most recent call last)",
            "\u001b[0;32m<ipython-input-14-b8b84072c547>\u001b[0m in \u001b[0;36m<module>\u001b[0;34m()\u001b[0m\n\u001b[0;32m----> 1\u001b[0;31m \u001b[0mgraph_biking\u001b[0m \u001b[0;34m=\u001b[0m \u001b[0mox\u001b[0m\u001b[0;34m.\u001b[0m\u001b[0mgraph_from_place\u001b[0m\u001b[0;34m(\u001b[0m\u001b[0mplace\u001b[0m\u001b[0;34m,\u001b[0m \u001b[0mnetwork_type\u001b[0m \u001b[0;34m=\u001b[0m \u001b[0;34m'bike'\u001b[0m\u001b[0;34m,\u001b[0m \u001b[0mtags\u001b[0m \u001b[0;34m=\u001b[0m\u001b[0;34m{\u001b[0m\u001b[0;34m'highway'\u001b[0m\u001b[0;34m:\u001b[0m\u001b[0;34m'cycle_lane'\u001b[0m\u001b[0;34m}\u001b[0m\u001b[0;34m)\u001b[0m\u001b[0;34m\u001b[0m\u001b[0;34m\u001b[0m\u001b[0m\n\u001b[0m\u001b[1;32m      2\u001b[0m \u001b[0mox\u001b[0m\u001b[0;34m.\u001b[0m\u001b[0mplot_graph\u001b[0m\u001b[0;34m(\u001b[0m\u001b[0mgraph_biking\u001b[0m\u001b[0;34m,\u001b[0m \u001b[0mnode_size\u001b[0m \u001b[0;34m=\u001b[0m \u001b[0;36m30\u001b[0m\u001b[0;34m,\u001b[0m \u001b[0mnode_color\u001b[0m \u001b[0;34m=\u001b[0m \u001b[0;34m'darkseagreen'\u001b[0m\u001b[0;34m)\u001b[0m\u001b[0;34m\u001b[0m\u001b[0;34m\u001b[0m\u001b[0m\n",
            "\u001b[0;31mTypeError\u001b[0m: graph_from_place() got an unexpected keyword argument 'tags'"
          ]
        }
      ]
    },
    {
      "cell_type": "code",
      "metadata": {
        "id": "5mIylePA5dre",
        "colab_type": "code",
        "colab": {}
      },
      "source": [
        ""
      ],
      "execution_count": null,
      "outputs": []
    },
    {
      "cell_type": "markdown",
      "metadata": {
        "id": "rxh6r3noYARO",
        "colab_type": "text"
      },
      "source": [
        "Comparing the ammount of streets for driving and biking against each other"
      ]
    },
    {
      "cell_type": "code",
      "metadata": {
        "id": "x3KNRbr1yGap",
        "colab_type": "code",
        "colab": {}
      },
      "source": [
        "print(\"Driving: \", len(graph_driving))\n",
        "print(\"Biking: \",len(graph_biking))"
      ],
      "execution_count": null,
      "outputs": []
    },
    {
      "cell_type": "markdown",
      "metadata": {
        "id": "blhfOk9LgVw1",
        "colab_type": "text"
      },
      "source": [
        "Taking a closer look at the streets for driving"
      ]
    },
    {
      "cell_type": "code",
      "metadata": {
        "id": "N1mh2GsfdxUt",
        "colab_type": "code",
        "colab": {}
      },
      "source": [
        "nodes, streets = ox.graph_to_gdfs(graph_driving)"
      ],
      "execution_count": null,
      "outputs": []
    },
    {
      "cell_type": "code",
      "metadata": {
        "id": "QJkkyGPHf4nH",
        "colab_type": "code",
        "colab": {}
      },
      "source": [
        "streets.head()"
      ],
      "execution_count": null,
      "outputs": []
    },
    {
      "cell_type": "markdown",
      "metadata": {
        "id": "mqGvnDNwgd4N",
        "colab_type": "text"
      },
      "source": [
        "What's the distrubition over different street types?"
      ]
    },
    {
      "cell_type": "code",
      "metadata": {
        "id": "Fj3J-AFHf-NZ",
        "colab_type": "code",
        "colab": {}
      },
      "source": [
        "street_types = pd.DataFrame(streets[\"highway\"].apply(pd.Series)[0].value_counts().reset_index())\n",
        "street_types.columns = [\"type\", \"count\"]"
      ],
      "execution_count": null,
      "outputs": []
    },
    {
      "cell_type": "code",
      "metadata": {
        "id": "xOqrs3K_02bE",
        "colab_type": "code",
        "colab": {}
      },
      "source": [
        "fig, ax = plt.subplots(figsize=(12,10))\n",
        "sns.barplot(y=\"type\", x=\"count\", data=street_types, ax=ax)\n",
        "plt.tight_layout()\n",
        "plt.savefig(\"barchart.png\")"
      ],
      "execution_count": null,
      "outputs": []
    },
    {
      "cell_type": "markdown",
      "metadata": {
        "id": "-PnLVJ2_eTWN",
        "colab_type": "text"
      },
      "source": [
        "## How far can you walk within 5, 10, 15, 20 and 25 minutes?\n",
        "\n",
        "\n"
      ]
    },
    {
      "cell_type": "markdown",
      "metadata": {
        "id": "0u-Xe8c9ftUj",
        "colab_type": "text"
      },
      "source": [
        "### Setup"
      ]
    },
    {
      "cell_type": "code",
      "metadata": {
        "id": "XU0YO1ACeX61",
        "colab_type": "code",
        "colab": {}
      },
      "source": [
        "import geopandas as gpd\n",
        "import matplotlib.pyplot as plt\n",
        "import networkx as nx\n",
        "import osmnx as ox\n",
        "from descartes import PolygonPatch\n",
        "from shapely.geometry import Point, LineString, Polygon\n",
        "%matplotlib inline\n",
        "ox.config(log_console=True, use_cache=True)\n"
      ],
      "execution_count": null,
      "outputs": []
    },
    {
      "cell_type": "markdown",
      "metadata": {
        "id": "5-zPEcKGfyzc",
        "colab_type": "text"
      },
      "source": [
        "### Mapping"
      ]
    },
    {
      "cell_type": "code",
      "metadata": {
        "id": "QbZPF0hXc9uh",
        "colab_type": "code",
        "colab": {}
      },
      "source": [
        "# configure the place, network type, trip times, and travel speed\n",
        "network_type = 'walk'\n",
        "trip_times = [5, 10, 15, 20, 25] #in minutes\n",
        "travel_speed = 4.5 #walking speed in km/hour"
      ],
      "execution_count": null,
      "outputs": []
    },
    {
      "cell_type": "code",
      "metadata": {
        "id": "JP4WLTGYecjc",
        "colab_type": "code",
        "colab": {}
      },
      "source": [
        "# download the street network\n",
        "G = ox.graph_from_place(place, network_type=network_type)"
      ],
      "execution_count": null,
      "outputs": []
    },
    {
      "cell_type": "code",
      "metadata": {
        "id": "E-oz5GgEefe2",
        "colab_type": "code",
        "colab": {}
      },
      "source": [
        "# find the centermost node and then project the graph to UTM\n",
        "gdf_nodes = ox.graph_to_gdfs(G, edges=False)\n",
        "x, y = gdf_nodes['geometry'].unary_union.centroid.xy\n",
        "center_node = ox.get_nearest_node(G, (y[0], x[0]))\n",
        "G = ox.project_graph(G)"
      ],
      "execution_count": null,
      "outputs": []
    },
    {
      "cell_type": "code",
      "metadata": {
        "id": "H4dmw9K1ehWl",
        "colab_type": "code",
        "colab": {}
      },
      "source": [
        "# add an edge attribute for time in minutes required to traverse each edge\n",
        "meters_per_minute = travel_speed * 1000 / 60 #km per hour to m per minute\n",
        "for u, v, k, data in G.edges(data=True, keys=True):\n",
        "    data['time'] = data['length'] / meters_per_minute"
      ],
      "execution_count": null,
      "outputs": []
    },
    {
      "cell_type": "code",
      "metadata": {
        "id": "ckVsjSBRejvC",
        "colab_type": "code",
        "colab": {}
      },
      "source": [
        "# get one color for each isochrone\n",
        "iso_colors = ox.plot.get_colors(n=len(trip_times), cmap='plasma', start=0, return_hex=True)"
      ],
      "execution_count": null,
      "outputs": []
    },
    {
      "cell_type": "code",
      "metadata": {
        "id": "gf-UNQIPeo98",
        "colab_type": "code",
        "colab": {}
      },
      "source": [
        "# color the nodes according to isochrone then plot the street network\n",
        "node_colors = {}\n",
        "for trip_time, color in zip(sorted(trip_times, reverse=True), iso_colors):\n",
        "    subgraph = nx.ego_graph(G, center_node, radius=trip_time, distance='time')\n",
        "    for node in subgraph.nodes():\n",
        "        node_colors[node] = color\n",
        "nc = [node_colors[node] if node in node_colors else 'none' for node in G.nodes()]\n",
        "ns = [15 if node in node_colors else 0 for node in G.nodes()]\n",
        "fig, ax = ox.plot_graph(G, node_color=nc, node_size=ns, node_alpha=0.8, node_zorder=2,\n",
        "                        bgcolor='k', edge_linewidth=0.2, edge_color='#999999')"
      ],
      "execution_count": null,
      "outputs": []
    },
    {
      "cell_type": "markdown",
      "metadata": {
        "id": "_cUXqixEl8x6",
        "colab_type": "text"
      },
      "source": [
        "# Point of Interest \n"
      ]
    },
    {
      "cell_type": "markdown",
      "metadata": {
        "id": "TeHRSlELauRQ",
        "colab_type": "text"
      },
      "source": [
        "Creating an object storing all amnities found in place"
      ]
    },
    {
      "cell_type": "code",
      "metadata": {
        "id": "UDJqKOYYTuXr",
        "colab_type": "code",
        "colab": {
          "base_uri": "https://localhost:8080/",
          "height": 477
        },
        "outputId": "e339dcf8-824d-4ba4-dce3-fe07c42053f2"
      },
      "source": [
        "amen = ox.pois_from_place(place, tags={'amenity':True})\n",
        "amen.head()"
      ],
      "execution_count": null,
      "outputs": [
        {
          "output_type": "stream",
          "text": [
            "/usr/local/lib/python3.6/dist-packages/osmnx/pois.py:370: UserWarning: Geometry is in a geographic CRS. Results from 'centroid' are likely incorrect. Use 'GeoSeries.to_crs()' to re-project geometries to a projected CRS before this operation.\n",
            "\n",
            "  gdf = gdf.loc[gdf[\"geometry\"].centroid.within(polygon)]\n"
          ],
          "name": "stderr"
        },
        {
          "output_type": "execute_result",
          "data": {
            "text/html": [
              "<div>\n",
              "<style scoped>\n",
              "    .dataframe tbody tr th:only-of-type {\n",
              "        vertical-align: middle;\n",
              "    }\n",
              "\n",
              "    .dataframe tbody tr th {\n",
              "        vertical-align: top;\n",
              "    }\n",
              "\n",
              "    .dataframe thead th {\n",
              "        text-align: right;\n",
              "    }\n",
              "</style>\n",
              "<table border=\"1\" class=\"dataframe\">\n",
              "  <thead>\n",
              "    <tr style=\"text-align: right;\">\n",
              "      <th></th>\n",
              "      <th>osmid</th>\n",
              "      <th>geometry</th>\n",
              "      <th>amenity</th>\n",
              "      <th>religion</th>\n",
              "      <th>wheelchair</th>\n",
              "      <th>element_type</th>\n",
              "      <th>name</th>\n",
              "      <th>phone</th>\n",
              "      <th>website</th>\n",
              "      <th>addr:city</th>\n",
              "      <th>addr:country</th>\n",
              "      <th>addr:housenumber</th>\n",
              "      <th>addr:postcode</th>\n",
              "      <th>addr:street</th>\n",
              "      <th>addr:suburb</th>\n",
              "      <th>cuisine</th>\n",
              "      <th>diet:vegan</th>\n",
              "      <th>opening_hours</th>\n",
              "      <th>contact:phone</th>\n",
              "      <th>contact:website</th>\n",
              "      <th>sausage</th>\n",
              "      <th>wikidata</th>\n",
              "      <th>wikipedia</th>\n",
              "      <th>brand</th>\n",
              "      <th>brand:wikidata</th>\n",
              "      <th>brand:wikipedia</th>\n",
              "      <th>cmt</th>\n",
              "      <th>operator</th>\n",
              "      <th>ref</th>\n",
              "      <th>collection_times</th>\n",
              "      <th>dispensing</th>\n",
              "      <th>healthcare</th>\n",
              "      <th>check_date</th>\n",
              "      <th>check_date:collection_times</th>\n",
              "      <th>colour</th>\n",
              "      <th>drive_through</th>\n",
              "      <th>material</th>\n",
              "      <th>support</th>\n",
              "      <th>diet:vegetarian</th>\n",
              "      <th>outdoor_seating</th>\n",
              "      <th>...</th>\n",
              "      <th>building:use</th>\n",
              "      <th>building:min_level</th>\n",
              "      <th>isced:level</th>\n",
              "      <th>organisation</th>\n",
              "      <th>building:part</th>\n",
              "      <th>fuel:e10</th>\n",
              "      <th>country</th>\n",
              "      <th>diplomatic</th>\n",
              "      <th>embassy</th>\n",
              "      <th>name:la</th>\n",
              "      <th>roof:material</th>\n",
              "      <th>name:etymology:wikidata</th>\n",
              "      <th>amenity_1</th>\n",
              "      <th>subdenomination</th>\n",
              "      <th>building:material</th>\n",
              "      <th>roof:colour</th>\n",
              "      <th>height</th>\n",
              "      <th>landuse</th>\n",
              "      <th>hgv</th>\n",
              "      <th>school</th>\n",
              "      <th>protect_class</th>\n",
              "      <th>year_of_construction</th>\n",
              "      <th>building:demolished</th>\n",
              "      <th>tenant</th>\n",
              "      <th>natural</th>\n",
              "      <th>capacity:parent</th>\n",
              "      <th>capacity:women</th>\n",
              "      <th>noaddress</th>\n",
              "      <th>building:levels:underground</th>\n",
              "      <th>reg_name</th>\n",
              "      <th>room</th>\n",
              "      <th>automated</th>\n",
              "      <th>polling_station</th>\n",
              "      <th>recycling:paper</th>\n",
              "      <th>recycling:plastic</th>\n",
              "      <th>research_institution</th>\n",
              "      <th>payment:contactless</th>\n",
              "      <th>catering</th>\n",
              "      <th>cargo_bike</th>\n",
              "      <th>operator:short</th>\n",
              "    </tr>\n",
              "  </thead>\n",
              "  <tbody>\n",
              "    <tr>\n",
              "      <th>29209127</th>\n",
              "      <td>29209127</td>\n",
              "      <td>POINT (13.39038 52.49518)</td>\n",
              "      <td>place_of_worship</td>\n",
              "      <td>christian</td>\n",
              "      <td>limited</td>\n",
              "      <td>node</td>\n",
              "      <td>NaN</td>\n",
              "      <td>NaN</td>\n",
              "      <td>NaN</td>\n",
              "      <td>NaN</td>\n",
              "      <td>NaN</td>\n",
              "      <td>NaN</td>\n",
              "      <td>NaN</td>\n",
              "      <td>NaN</td>\n",
              "      <td>NaN</td>\n",
              "      <td>NaN</td>\n",
              "      <td>NaN</td>\n",
              "      <td>NaN</td>\n",
              "      <td>NaN</td>\n",
              "      <td>NaN</td>\n",
              "      <td>NaN</td>\n",
              "      <td>NaN</td>\n",
              "      <td>NaN</td>\n",
              "      <td>NaN</td>\n",
              "      <td>NaN</td>\n",
              "      <td>NaN</td>\n",
              "      <td>NaN</td>\n",
              "      <td>NaN</td>\n",
              "      <td>NaN</td>\n",
              "      <td>NaN</td>\n",
              "      <td>NaN</td>\n",
              "      <td>NaN</td>\n",
              "      <td>NaN</td>\n",
              "      <td>NaN</td>\n",
              "      <td>NaN</td>\n",
              "      <td>NaN</td>\n",
              "      <td>NaN</td>\n",
              "      <td>NaN</td>\n",
              "      <td>NaN</td>\n",
              "      <td>NaN</td>\n",
              "      <td>...</td>\n",
              "      <td>NaN</td>\n",
              "      <td>NaN</td>\n",
              "      <td>NaN</td>\n",
              "      <td>NaN</td>\n",
              "      <td>NaN</td>\n",
              "      <td>NaN</td>\n",
              "      <td>NaN</td>\n",
              "      <td>NaN</td>\n",
              "      <td>NaN</td>\n",
              "      <td>NaN</td>\n",
              "      <td>NaN</td>\n",
              "      <td>NaN</td>\n",
              "      <td>NaN</td>\n",
              "      <td>NaN</td>\n",
              "      <td>NaN</td>\n",
              "      <td>NaN</td>\n",
              "      <td>NaN</td>\n",
              "      <td>NaN</td>\n",
              "      <td>NaN</td>\n",
              "      <td>NaN</td>\n",
              "      <td>NaN</td>\n",
              "      <td>NaN</td>\n",
              "      <td>NaN</td>\n",
              "      <td>NaN</td>\n",
              "      <td>NaN</td>\n",
              "      <td>NaN</td>\n",
              "      <td>NaN</td>\n",
              "      <td>NaN</td>\n",
              "      <td>NaN</td>\n",
              "      <td>NaN</td>\n",
              "      <td>NaN</td>\n",
              "      <td>NaN</td>\n",
              "      <td>NaN</td>\n",
              "      <td>NaN</td>\n",
              "      <td>NaN</td>\n",
              "      <td>NaN</td>\n",
              "      <td>NaN</td>\n",
              "      <td>NaN</td>\n",
              "      <td>NaN</td>\n",
              "      <td>NaN</td>\n",
              "    </tr>\n",
              "    <tr>\n",
              "      <th>30012753</th>\n",
              "      <td>30012753</td>\n",
              "      <td>POINT (13.42919 52.49404)</td>\n",
              "      <td>arts_centre</td>\n",
              "      <td>NaN</td>\n",
              "      <td>yes</td>\n",
              "      <td>node</td>\n",
              "      <td>Umspannwerk</td>\n",
              "      <td>+493066068444</td>\n",
              "      <td>http://www.umspannwerk-kreuzberg.de/</td>\n",
              "      <td>NaN</td>\n",
              "      <td>NaN</td>\n",
              "      <td>NaN</td>\n",
              "      <td>NaN</td>\n",
              "      <td>NaN</td>\n",
              "      <td>NaN</td>\n",
              "      <td>NaN</td>\n",
              "      <td>NaN</td>\n",
              "      <td>NaN</td>\n",
              "      <td>NaN</td>\n",
              "      <td>NaN</td>\n",
              "      <td>NaN</td>\n",
              "      <td>NaN</td>\n",
              "      <td>NaN</td>\n",
              "      <td>NaN</td>\n",
              "      <td>NaN</td>\n",
              "      <td>NaN</td>\n",
              "      <td>NaN</td>\n",
              "      <td>NaN</td>\n",
              "      <td>NaN</td>\n",
              "      <td>NaN</td>\n",
              "      <td>NaN</td>\n",
              "      <td>NaN</td>\n",
              "      <td>NaN</td>\n",
              "      <td>NaN</td>\n",
              "      <td>NaN</td>\n",
              "      <td>NaN</td>\n",
              "      <td>NaN</td>\n",
              "      <td>NaN</td>\n",
              "      <td>NaN</td>\n",
              "      <td>NaN</td>\n",
              "      <td>...</td>\n",
              "      <td>NaN</td>\n",
              "      <td>NaN</td>\n",
              "      <td>NaN</td>\n",
              "      <td>NaN</td>\n",
              "      <td>NaN</td>\n",
              "      <td>NaN</td>\n",
              "      <td>NaN</td>\n",
              "      <td>NaN</td>\n",
              "      <td>NaN</td>\n",
              "      <td>NaN</td>\n",
              "      <td>NaN</td>\n",
              "      <td>NaN</td>\n",
              "      <td>NaN</td>\n",
              "      <td>NaN</td>\n",
              "      <td>NaN</td>\n",
              "      <td>NaN</td>\n",
              "      <td>NaN</td>\n",
              "      <td>NaN</td>\n",
              "      <td>NaN</td>\n",
              "      <td>NaN</td>\n",
              "      <td>NaN</td>\n",
              "      <td>NaN</td>\n",
              "      <td>NaN</td>\n",
              "      <td>NaN</td>\n",
              "      <td>NaN</td>\n",
              "      <td>NaN</td>\n",
              "      <td>NaN</td>\n",
              "      <td>NaN</td>\n",
              "      <td>NaN</td>\n",
              "      <td>NaN</td>\n",
              "      <td>NaN</td>\n",
              "      <td>NaN</td>\n",
              "      <td>NaN</td>\n",
              "      <td>NaN</td>\n",
              "      <td>NaN</td>\n",
              "      <td>NaN</td>\n",
              "      <td>NaN</td>\n",
              "      <td>NaN</td>\n",
              "      <td>NaN</td>\n",
              "      <td>NaN</td>\n",
              "    </tr>\n",
              "    <tr>\n",
              "      <th>30020303</th>\n",
              "      <td>30020303</td>\n",
              "      <td>POINT (13.39398 52.49071)</td>\n",
              "      <td>restaurant</td>\n",
              "      <td>NaN</td>\n",
              "      <td>no</td>\n",
              "      <td>node</td>\n",
              "      <td>Tibet Haus</td>\n",
              "      <td>+49306948948</td>\n",
              "      <td>NaN</td>\n",
              "      <td>Berlin</td>\n",
              "      <td>DE</td>\n",
              "      <td>19</td>\n",
              "      <td>10961</td>\n",
              "      <td>Zossener Straße</td>\n",
              "      <td>Kreuzberg</td>\n",
              "      <td>tibetan</td>\n",
              "      <td>yes</td>\n",
              "      <td>12:00-24:00</td>\n",
              "      <td>NaN</td>\n",
              "      <td>NaN</td>\n",
              "      <td>NaN</td>\n",
              "      <td>NaN</td>\n",
              "      <td>NaN</td>\n",
              "      <td>NaN</td>\n",
              "      <td>NaN</td>\n",
              "      <td>NaN</td>\n",
              "      <td>NaN</td>\n",
              "      <td>NaN</td>\n",
              "      <td>NaN</td>\n",
              "      <td>NaN</td>\n",
              "      <td>NaN</td>\n",
              "      <td>NaN</td>\n",
              "      <td>NaN</td>\n",
              "      <td>NaN</td>\n",
              "      <td>NaN</td>\n",
              "      <td>NaN</td>\n",
              "      <td>NaN</td>\n",
              "      <td>NaN</td>\n",
              "      <td>NaN</td>\n",
              "      <td>NaN</td>\n",
              "      <td>...</td>\n",
              "      <td>NaN</td>\n",
              "      <td>NaN</td>\n",
              "      <td>NaN</td>\n",
              "      <td>NaN</td>\n",
              "      <td>NaN</td>\n",
              "      <td>NaN</td>\n",
              "      <td>NaN</td>\n",
              "      <td>NaN</td>\n",
              "      <td>NaN</td>\n",
              "      <td>NaN</td>\n",
              "      <td>NaN</td>\n",
              "      <td>NaN</td>\n",
              "      <td>NaN</td>\n",
              "      <td>NaN</td>\n",
              "      <td>NaN</td>\n",
              "      <td>NaN</td>\n",
              "      <td>NaN</td>\n",
              "      <td>NaN</td>\n",
              "      <td>NaN</td>\n",
              "      <td>NaN</td>\n",
              "      <td>NaN</td>\n",
              "      <td>NaN</td>\n",
              "      <td>NaN</td>\n",
              "      <td>NaN</td>\n",
              "      <td>NaN</td>\n",
              "      <td>NaN</td>\n",
              "      <td>NaN</td>\n",
              "      <td>NaN</td>\n",
              "      <td>NaN</td>\n",
              "      <td>NaN</td>\n",
              "      <td>NaN</td>\n",
              "      <td>NaN</td>\n",
              "      <td>NaN</td>\n",
              "      <td>NaN</td>\n",
              "      <td>NaN</td>\n",
              "      <td>NaN</td>\n",
              "      <td>NaN</td>\n",
              "      <td>NaN</td>\n",
              "      <td>NaN</td>\n",
              "      <td>NaN</td>\n",
              "    </tr>\n",
              "    <tr>\n",
              "      <th>30022140</th>\n",
              "      <td>30022140</td>\n",
              "      <td>POINT (13.38773 52.49356)</td>\n",
              "      <td>fast_food</td>\n",
              "      <td>NaN</td>\n",
              "      <td>yes</td>\n",
              "      <td>node</td>\n",
              "      <td>Curry 36</td>\n",
              "      <td>NaN</td>\n",
              "      <td>NaN</td>\n",
              "      <td>Berlin</td>\n",
              "      <td>DE</td>\n",
              "      <td>36</td>\n",
              "      <td>10961</td>\n",
              "      <td>Mehringdamm</td>\n",
              "      <td>Kreuzberg</td>\n",
              "      <td>sausage</td>\n",
              "      <td>NaN</td>\n",
              "      <td>Mo-Su 09:00-05:00</td>\n",
              "      <td>+49 30 2580088336</td>\n",
              "      <td>https://curry36.de/</td>\n",
              "      <td>curry</td>\n",
              "      <td>Q1144909</td>\n",
              "      <td>de:Curry 36</td>\n",
              "      <td>NaN</td>\n",
              "      <td>NaN</td>\n",
              "      <td>NaN</td>\n",
              "      <td>NaN</td>\n",
              "      <td>NaN</td>\n",
              "      <td>NaN</td>\n",
              "      <td>NaN</td>\n",
              "      <td>NaN</td>\n",
              "      <td>NaN</td>\n",
              "      <td>NaN</td>\n",
              "      <td>NaN</td>\n",
              "      <td>NaN</td>\n",
              "      <td>NaN</td>\n",
              "      <td>NaN</td>\n",
              "      <td>NaN</td>\n",
              "      <td>NaN</td>\n",
              "      <td>NaN</td>\n",
              "      <td>...</td>\n",
              "      <td>NaN</td>\n",
              "      <td>NaN</td>\n",
              "      <td>NaN</td>\n",
              "      <td>NaN</td>\n",
              "      <td>NaN</td>\n",
              "      <td>NaN</td>\n",
              "      <td>NaN</td>\n",
              "      <td>NaN</td>\n",
              "      <td>NaN</td>\n",
              "      <td>NaN</td>\n",
              "      <td>NaN</td>\n",
              "      <td>NaN</td>\n",
              "      <td>NaN</td>\n",
              "      <td>NaN</td>\n",
              "      <td>NaN</td>\n",
              "      <td>NaN</td>\n",
              "      <td>NaN</td>\n",
              "      <td>NaN</td>\n",
              "      <td>NaN</td>\n",
              "      <td>NaN</td>\n",
              "      <td>NaN</td>\n",
              "      <td>NaN</td>\n",
              "      <td>NaN</td>\n",
              "      <td>NaN</td>\n",
              "      <td>NaN</td>\n",
              "      <td>NaN</td>\n",
              "      <td>NaN</td>\n",
              "      <td>NaN</td>\n",
              "      <td>NaN</td>\n",
              "      <td>NaN</td>\n",
              "      <td>NaN</td>\n",
              "      <td>NaN</td>\n",
              "      <td>NaN</td>\n",
              "      <td>NaN</td>\n",
              "      <td>NaN</td>\n",
              "      <td>NaN</td>\n",
              "      <td>NaN</td>\n",
              "      <td>NaN</td>\n",
              "      <td>NaN</td>\n",
              "      <td>NaN</td>\n",
              "    </tr>\n",
              "    <tr>\n",
              "      <th>68363395</th>\n",
              "      <td>68363395</td>\n",
              "      <td>POINT (13.44978 52.49717)</td>\n",
              "      <td>fuel</td>\n",
              "      <td>NaN</td>\n",
              "      <td>NaN</td>\n",
              "      <td>node</td>\n",
              "      <td>Aral</td>\n",
              "      <td>+49 30 61286590</td>\n",
              "      <td>https://www.aral.de/tankstelle/berlin/vor_dem_...</td>\n",
              "      <td>Berlin</td>\n",
              "      <td>DE</td>\n",
              "      <td>2</td>\n",
              "      <td>10997</td>\n",
              "      <td>Vor dem Schlesischen Tor</td>\n",
              "      <td>Kreuzberg</td>\n",
              "      <td>NaN</td>\n",
              "      <td>NaN</td>\n",
              "      <td>NaN</td>\n",
              "      <td>NaN</td>\n",
              "      <td>NaN</td>\n",
              "      <td>NaN</td>\n",
              "      <td>NaN</td>\n",
              "      <td>NaN</td>\n",
              "      <td>Aral</td>\n",
              "      <td>Q565734</td>\n",
              "      <td>en:Aral AG</td>\n",
              "      <td>ref=tankstellennumber found on the reciept</td>\n",
              "      <td>Yvonne Hoffmann</td>\n",
              "      <td>0110346129</td>\n",
              "      <td>NaN</td>\n",
              "      <td>NaN</td>\n",
              "      <td>NaN</td>\n",
              "      <td>NaN</td>\n",
              "      <td>NaN</td>\n",
              "      <td>NaN</td>\n",
              "      <td>NaN</td>\n",
              "      <td>NaN</td>\n",
              "      <td>NaN</td>\n",
              "      <td>NaN</td>\n",
              "      <td>NaN</td>\n",
              "      <td>...</td>\n",
              "      <td>NaN</td>\n",
              "      <td>NaN</td>\n",
              "      <td>NaN</td>\n",
              "      <td>NaN</td>\n",
              "      <td>NaN</td>\n",
              "      <td>NaN</td>\n",
              "      <td>NaN</td>\n",
              "      <td>NaN</td>\n",
              "      <td>NaN</td>\n",
              "      <td>NaN</td>\n",
              "      <td>NaN</td>\n",
              "      <td>NaN</td>\n",
              "      <td>NaN</td>\n",
              "      <td>NaN</td>\n",
              "      <td>NaN</td>\n",
              "      <td>NaN</td>\n",
              "      <td>NaN</td>\n",
              "      <td>NaN</td>\n",
              "      <td>NaN</td>\n",
              "      <td>NaN</td>\n",
              "      <td>NaN</td>\n",
              "      <td>NaN</td>\n",
              "      <td>NaN</td>\n",
              "      <td>NaN</td>\n",
              "      <td>NaN</td>\n",
              "      <td>NaN</td>\n",
              "      <td>NaN</td>\n",
              "      <td>NaN</td>\n",
              "      <td>NaN</td>\n",
              "      <td>NaN</td>\n",
              "      <td>NaN</td>\n",
              "      <td>NaN</td>\n",
              "      <td>NaN</td>\n",
              "      <td>NaN</td>\n",
              "      <td>NaN</td>\n",
              "      <td>NaN</td>\n",
              "      <td>NaN</td>\n",
              "      <td>NaN</td>\n",
              "      <td>NaN</td>\n",
              "      <td>NaN</td>\n",
              "    </tr>\n",
              "  </tbody>\n",
              "</table>\n",
              "<p>5 rows × 500 columns</p>\n",
              "</div>"
            ],
            "text/plain": [
              "             osmid                   geometry  ... cargo_bike operator:short\n",
              "29209127  29209127  POINT (13.39038 52.49518)  ...        NaN            NaN\n",
              "30012753  30012753  POINT (13.42919 52.49404)  ...        NaN            NaN\n",
              "30020303  30020303  POINT (13.39398 52.49071)  ...        NaN            NaN\n",
              "30022140  30022140  POINT (13.38773 52.49356)  ...        NaN            NaN\n",
              "68363395  68363395  POINT (13.44978 52.49717)  ...        NaN            NaN\n",
              "\n",
              "[5 rows x 500 columns]"
            ]
          },
          "metadata": {
            "tags": []
          },
          "execution_count": 25
        }
      ]
    },
    {
      "cell_type": "code",
      "metadata": {
        "id": "J5jjUvIDGrao",
        "colab_type": "code",
        "colab": {}
      },
      "source": [
        "nightlife = ox.pois_from_place(place, tags={'amenity':['bar', 'biergarten', 'hookah_lounge', 'nightclub', 'stripclubs', 'swingerclubs']}); nightlife"
      ],
      "execution_count": null,
      "outputs": []
    },
    {
      "cell_type": "markdown",
      "metadata": {
        "id": "uzPFn1Uqa59l",
        "colab_type": "text"
      },
      "source": [
        "What kind of amenities are there?"
      ]
    },
    {
      "cell_type": "code",
      "metadata": {
        "id": "MY_au2vEURzk",
        "colab_type": "code",
        "colab": {}
      },
      "source": [
        "set(amen['amenity'])"
      ],
      "execution_count": null,
      "outputs": []
    },
    {
      "cell_type": "markdown",
      "metadata": {
        "id": "OtHDfsG2bArf",
        "colab_type": "text"
      },
      "source": [
        "Count how many amenities of each type exist."
      ]
    },
    {
      "cell_type": "code",
      "metadata": {
        "id": "_P62ffZUZxil",
        "colab_type": "code",
        "colab": {}
      },
      "source": [
        "counts_amen = amen['amenity'].value_counts(); counts_amen"
      ],
      "execution_count": null,
      "outputs": []
    },
    {
      "cell_type": "markdown",
      "metadata": {
        "id": "EjYIaLy1bJ9W",
        "colab_type": "text"
      },
      "source": [
        "## Cafes"
      ]
    },
    {
      "cell_type": "code",
      "metadata": {
        "id": "Xc4zDZ2ejR7K",
        "colab_type": "code",
        "colab": {}
      },
      "source": [
        "cafe = ox.pois_from_place(place, tags={'amenity':'cafe'})"
      ],
      "execution_count": null,
      "outputs": []
    },
    {
      "cell_type": "code",
      "metadata": {
        "id": "c7Cu63vEmHdW",
        "colab_type": "code",
        "colab": {}
      },
      "source": [
        "cafe.head()"
      ],
      "execution_count": null,
      "outputs": []
    },
    {
      "cell_type": "code",
      "metadata": {
        "id": "i4LufFZwmLiJ",
        "colab_type": "code",
        "colab": {}
      },
      "source": [
        "columns =['name','wheelchair', 'opening_hours', 'addr:street', 'addr:city','addr:postcode']\n",
        "cafe[columns].head()"
      ],
      "execution_count": null,
      "outputs": []
    },
    {
      "cell_type": "code",
      "metadata": {
        "id": "kROSKLW9lqcQ",
        "colab_type": "code",
        "colab": {}
      },
      "source": [
        "len(cafe)"
      ],
      "execution_count": null,
      "outputs": []
    }
  ]
}